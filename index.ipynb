{
 "cells": [
  {
   "cell_type": "markdown",
   "metadata": {},
   "source": [
    "# Midterm Project\n",
    "\n",
    "The midterm project is due on class 10. You will have class 9 to continue to work on it, but it is a good idea to continue working on it. Your final submission should include a written description of your process from preprocessing through model evaluation. As a reminder of general requirements and key areas to include, refer to the midterm rubric below.\n",
    "\n",
    "<img src=\"Midterm_Rubric.jpg\" width=600>"
   ]
  },
  {
   "cell_type": "markdown",
   "metadata": {
    "collapsed": true
   },
   "source": [
    "# Regression Outline Reminder\n",
    "\n",
    "As a reminder, here is our general outline for regression :\n",
    "\n",
    "* Define X and y\n",
    "    * y should be a continuous numeric variable\n",
    "    * X should be a number of numeric features\n",
    "        *X features may need substantial preproccesing including:\n",
    "            * Transforming datetime values\n",
    "            * Normalizing features ranges/distributions\n",
    "            * Creating dummy variables\n",
    "            * Ensuring there are no categorical variables coded (misleadingly) as numbers\n",
    "* Train / Test Split\n",
    "* Fit algorithm on training data\n",
    "    * Cross Validation\n",
    "    * Feature Engineering\n",
    "        * Synthetic Polynomial Features / Polynomial Regression\n",
    "* Evaluate Model Performance on Test Set\n",
    "    * Repeat process with seperate train/test split; do results hold?\n",
    "* Continue feature engineering, tuning, etc."
   ]
  },
  {
   "cell_type": "code",
   "execution_count": null,
   "metadata": {
    "collapsed": true
   },
   "outputs": [],
   "source": []
  }
 ],
 "metadata": {
  "kernelspec": {
   "display_name": "Python 3",
   "language": "python",
   "name": "python3"
  },
  "language_info": {
   "codemirror_mode": {
    "name": "ipython",
    "version": 3
   },
   "file_extension": ".py",
   "mimetype": "text/x-python",
   "name": "python",
   "nbconvert_exporter": "python",
   "pygments_lexer": "ipython3",
   "version": "3.6.4"
  }
 },
 "nbformat": 4,
 "nbformat_minor": 2
}
